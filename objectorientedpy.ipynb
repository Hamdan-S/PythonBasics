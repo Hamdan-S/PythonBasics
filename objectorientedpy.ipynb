{
 "cells": [
  {
   "cell_type": "markdown",
   "metadata": {},
   "source": [
    "### INHERITANCE\n",
    "\n",
    "\n",
    " A mechanism in which one class acquires the properties of another class. In python, inheritance is achieved by creating a new class that derives or ovverides and existing method.\n"
   ]
  },
  {
   "cell_type": "markdown",
   "metadata": {},
   "source": [
    "# Polymorphism\n",
    "\n",
    "Polymorphism is a concept of OOP that allows objects of different classes to be treated as objects of a common superclass. It enables methods in different classes to have the same but behave differently based on the specific class of the object being operated on. Polymorphism helps promote code flexibility, reusability and extensibility."
   ]
  },
  {
   "cell_type": "code",
   "execution_count": 10,
   "metadata": {},
   "outputs": [
    {
     "name": "stdout",
     "output_type": "stream",
     "text": [
      "15\n",
      "8\n",
      "9\n",
      "5\n",
      "45\n"
     ]
    }
   ],
   "source": [
    "class Rectangle:\n",
    "  def __init__(self, length, width):\n",
    "    self.length = length\n",
    "    self.width = width\n",
    "\n",
    "  def area(self):\n",
    "    return self.length * self.width\n",
    "\n",
    "  def __add__(self, other):\n",
    "    return Rectangle(self.length + other.length, self.width + other.width)\n",
    "\n",
    "rect1 = Rectangle(5, 3)\n",
    "rect2 = Rectangle(4, 2)\n",
    "\n",
    "print(rect1.area())\n",
    "print(rect2.area())\n",
    "\n",
    "new_rect = rect1 + rect2\n",
    "print(new_rect.length)\n",
    "print(new_rect.width)\n",
    "print(new_rect.area())"
   ]
  },
  {
   "cell_type": "markdown",
   "metadata": {},
   "source": [
    "# 4/28/24 - 5/5/24 Homework\n",
    "\n",
    "1. Fruits inheritance homework\n",
    "2. Practice polymorphism"
   ]
  },
  {
   "cell_type": "markdown",
   "metadata": {},
   "source": []
  },
  {
   "cell_type": "code",
   "execution_count": 4,
   "metadata": {},
   "outputs": [
    {
     "name": "stdout",
     "output_type": "stream",
     "text": [
      "This is a red sweet fruit.\n",
      "This is a red fresh apple with a sweet taste.\n"
     ]
    }
   ],
   "source": [
    "class Fruit:\n",
    "  def __init__(self, color, flavor):\n",
    "    self.color = color\n",
    "    self.flavor = flavor\n",
    "\n",
    "  def describe(self):\n",
    "    print(f\"This is a {self.color} {self.flavor} fruit.\")\n",
    "\n",
    "\n",
    "class Apple(Fruit):\n",
    "  def __init__(self, color, flavor, variety):\n",
    "    super().__init__(color, flavor)  \n",
    "    self.variety = variety\n",
    "\n",
    "  def describe(self):\n",
    "    print(f\"This is a {self.color} {self.variety} apple with a {self.flavor} taste.\")\n",
    "\n",
    "\n",
    "my_fruit = Fruit(\"red\", \"sweet\")\n",
    "my_fruit.describe()  \n",
    "\n",
    "my_apple = Apple(\"red\", \"sweet\", \"fresh\")\n",
    "my_apple.describe()  \n"
   ]
  },
  {
   "cell_type": "markdown",
   "metadata": {},
   "source": [
    "# ABSTRACTION\n",
    "\n",
    "Abstraction in Python is a fundamental concept that allows developers to simplify complex systems by hiding unecessary details and exposing only the essential features to the user. It is a way of representing the core functionalilty of an object or a system without getting into the implementation details."
   ]
  },
  {
   "cell_type": "markdown",
   "metadata": {},
   "source": [
    "All Python Basic Lessons, covered OOP, data types, variables, classes, 4 pillars."
   ]
  },
  {
   "cell_type": "markdown",
   "metadata": {},
   "source": [
    "### Data Types\n",
    "\n",
    "Variables can store data of different types, and different types can do different things.\n",
    "\n",
    "Text Type: \tstr\n",
    "Numeric Types: \tint, float, complex\n",
    "Sequence Types: \tlist, tuple, range\n",
    "Mapping Type: \tdict\n",
    "Set Types: \tset, frozenset\n",
    "Boolean Type: \tbool\n",
    "Binary Types: \tbytes, bytearray, memoryview\n",
    "None Type: \tNoneType"
   ]
  },
  {
   "cell_type": "markdown",
   "metadata": {},
   "source": [
    "### Variables\n",
    "\n",
    "Variables are like containers for storing data values.\n"
   ]
  },
  {
   "cell_type": "code",
   "execution_count": 2,
   "metadata": {},
   "outputs": [
    {
     "name": "stdout",
     "output_type": "stream",
     "text": [
      "Python is awesome\n"
     ]
    }
   ],
   "source": [
    "x = \"awesome\"\n",
    "def myfunc():\n",
    "  print(\"Python is \" + x)\n",
    "\n",
    "myfunc()"
   ]
  },
  {
   "cell_type": "markdown",
   "metadata": {},
   "source": [
    "### Classes\n",
    "\n",
    "A Class is like an object constructor, or a \"blueprint\" for creating objects."
   ]
  },
  {
   "cell_type": "code",
   "execution_count": 1,
   "metadata": {},
   "outputs": [
    {
     "name": "stdout",
     "output_type": "stream",
     "text": [
      "Hamdan\n",
      "15\n"
     ]
    }
   ],
   "source": [
    "class Person:\n",
    "  def __init__(self, name, age):\n",
    "    self.name = name\n",
    "    self.age = age\n",
    "\n",
    "p1 = Person(\"Hamdan\", 15)\n",
    "\n",
    "print(p1.name)\n",
    "print(p1.age) "
   ]
  },
  {
   "cell_type": "markdown",
   "metadata": {},
   "source": [
    "### Pillars of OOP\n",
    "\n",
    "Abstraction in Python is a fundamental concept that allows developers to simplify complex systems by hiding unecessary details and exposing only the essential features to the user. It is a way of representing the core functionalilty of an object or a system without getting into the implementation details.\n",
    "\n",
    "Polymorphism is a concept of OOP that allows objects of different classes to be treated as objects of a common superclass. It enables methods in different classes to have the same but behave differently based on the specific class of the object being operated on. Polymorphism helps promote code flexibility, reusability and extensibility.\n",
    "\n",
    " Inheritance is a mechanism in which one class acquires the properties of another class. In python, inheritance is achieved by creating a new class that derives or ovverides and existing method."
   ]
  },
  {
   "cell_type": "code",
   "execution_count": 10,
   "metadata": {},
   "outputs": [
    {
     "name": "stdout",
     "output_type": "stream",
     "text": [
      "This is a red sweet fruit.\n",
      "This is a red fresh apple with a sweet taste.\n"
     ]
    }
   ],
   "source": [
    "class Fruit:\n",
    "  def __init__(self, color, flavor):\n",
    "    self.color = color\n",
    "    self.flavor = flavor\n",
    "\n",
    "  def describe(self):\n",
    "    print(f\"This is a {self.color} {self.flavor} fruit.\")\n",
    "\n",
    "\n",
    "class Apple(Fruit):\n",
    "  def __init__(self, color, flavor, variety):\n",
    "    super().__init__(color, flavor)  \n",
    "    self.variety = variety\n",
    "\n",
    "  def describe(self):\n",
    "    print(f\"This is a {self.color} {self.variety} apple with a {self.flavor} taste.\")\n",
    "\n",
    "\n",
    "my_fruit = Fruit(\"red\", \"sweet\")\n",
    "my_fruit.describe()  \n",
    "\n",
    "my_apple = Apple(\"red\", \"sweet\", \"fresh\")\n",
    "my_apple.describe()  "
   ]
  },
  {
   "cell_type": "markdown",
   "metadata": {},
   "source": [
    "### Loops\n",
    "\n",
    "A loop is a block of code that is executed until a condition is met. For example when you make a condition to count up one until the print reaches a certain number it will then stop or print an else statement telling you that your computer has stopped counting."
   ]
  },
  {
   "cell_type": "code",
   "execution_count": 9,
   "metadata": {},
   "outputs": [
    {
     "name": "stdout",
     "output_type": "stream",
     "text": [
      "1\n",
      "i is no longer less than 6\n"
     ]
    }
   ],
   "source": [
    "i = 1\n",
    "while i < 6:\n",
    "  print(i)\n",
    "  i += 5\n",
    "else:\n",
    "  print(\"i is no longer less than 6\")"
   ]
  },
  {
   "cell_type": "markdown",
   "metadata": {},
   "source": [
    "### Dictionaries\n",
    "\n",
    "Dictionaries are used to store data values in key:value pairs, a dictionary is a collection which is ordered*, changeable and do not allow duplicates."
   ]
  },
  {
   "cell_type": "code",
   "execution_count": 15,
   "metadata": {},
   "outputs": [
    {
     "name": "stdout",
     "output_type": "stream",
     "text": [
      "Windows\n",
      "I6 Processor\n",
      "2015\n",
      "Nvidia 3060\n"
     ]
    }
   ],
   "source": [
    "thisdict =\t{\n",
    "  \"Company\": \"Windows\",\n",
    "  \"CPU\": \"I6 Processor\",\n",
    "  \"CPU Year\": 2015\n",
    "}\n",
    "thisdict[\"GPU\"] = \"Nvidia 3060\"\n",
    "for x in thisdict:\n",
    "  print(thisdict[x])"
   ]
  }
 ],
 "metadata": {
  "kernelspec": {
   "display_name": "Python 3",
   "language": "python",
   "name": "python3"
  },
  "language_info": {
   "codemirror_mode": {
    "name": "ipython",
    "version": 3
   },
   "file_extension": ".py",
   "mimetype": "text/x-python",
   "name": "python",
   "nbconvert_exporter": "python",
   "pygments_lexer": "ipython3",
   "version": "3.12.2"
  }
 },
 "nbformat": 4,
 "nbformat_minor": 2
}
